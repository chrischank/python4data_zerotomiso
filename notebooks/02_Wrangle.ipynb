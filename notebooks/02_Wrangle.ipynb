{
 "cells": [
  {
   "cell_type": "code",
   "execution_count": 1,
   "metadata": {},
   "outputs": [],
   "source": [
    "#####################################\n",
    "#02 Data order, list, df and wrangle#\n",
    "#Maintainer: Christopher Chan       #\n",
    "#Date: 2023-04-19                   #\n",
    "#Version: 0.0.2                     #\n",
    "#####################################\n",
    "\n",
    "# Import all necessary packages\n",
    "import os, sys, re\n",
    "import random\n",
    "import pathlib\n",
    "import numpy as np\n",
    "import pandas as pd\n",
    "#import pyarrow as pa\n",
    "\n",
    "# Load all the paths we might use later\n",
    "data_raw = pathlib.Path(\"../data/raw\")\n",
    "data_external = pathlib.Path(\"../data/external\")"
   ]
  },
  {
   "attachments": {},
   "cell_type": "markdown",
   "metadata": {},
   "source": [
    "## Welcome to 02_Wrangle!\n",
    "Now that we have learnt the basics of python data types and syntax, we can actually work with some data!\n",
    "Python data are organised in several formats:\n",
    "- Lists, Arrays <br>\n",
    "<t> Lists and arrays can hold multiple data within it, lists of lists, and lists of objects can also be made <br>\n",
    "<t> Lists and arrays are iterable objects, (i.e. you can print it one by one)\n",
    "\n",
    "- Dictionaries\n",
    "- Matrixes\n",
    "- DataFrames"
   ]
  },
  {
   "cell_type": "code",
   "execution_count": 2,
   "metadata": {},
   "outputs": [
    {
     "name": "stdout",
     "output_type": "stream",
     "text": [
      "[1, 'two', 3] ['Cuatro', 5, 'Sechs']\n",
      "<class 'list'> <class 'list'>\n",
      "[[1, 'two', 3], ['Cuatro', 5, 'Sechs']]\n",
      "<class 'list'>\n",
      "The first element of List_B is: Cuatro\n",
      "The last element of List_B is: Sechs\n"
     ]
    },
    {
     "ename": "IndexError",
     "evalue": "list index out of range",
     "output_type": "error",
     "traceback": [
      "\u001b[1;31m---------------------------------------------------------------------------\u001b[0m",
      "\u001b[1;31mIndexError\u001b[0m                                Traceback (most recent call last)",
      "Cell \u001b[1;32mIn[2], line 20\u001b[0m\n\u001b[0;32m     17\u001b[0m \u001b[39mprint\u001b[39m(\u001b[39mf\u001b[39m\u001b[39m\"\u001b[39m\u001b[39mThe last element of List_B is: \u001b[39m\u001b[39m{\u001b[39;00mList_B[\u001b[39m-\u001b[39m\u001b[39m1\u001b[39m]\u001b[39m}\u001b[39;00m\u001b[39m\"\u001b[39m)\n\u001b[0;32m     19\u001b[0m \u001b[39m# Python counts from 0, List_A has 4 items in it\u001b[39;00m\n\u001b[1;32m---> 20\u001b[0m List_A[\u001b[39m3\u001b[39;49m]\n",
      "\u001b[1;31mIndexError\u001b[0m: list index out of range"
     ]
    }
   ],
   "source": [
    "# Let's make some list of numbers\n",
    "List_A = [1, \"two\", 3]\n",
    "List_B = list((\"Cuatro\", 5, \"Sechs\"))\n",
    "\n",
    "print(List_A, List_B)\n",
    "print(type(List_A), type(List_B))\n",
    "\n",
    "# We can put 2 list into 1 list!\n",
    "List_AB = [List_A, List_B]\n",
    "\n",
    "print(List_AB)\n",
    "print(type(List_AB))\n",
    "\n",
    "# How do we access list?\n",
    "List_B[0]\n",
    "print(f\"The first element of List_B is: {List_B[0]}\")\n",
    "print(f\"The last element of List_B is: {List_B[-1]}\")\n",
    "\n",
    "# Python counts from 0, List_A has 4 items in it\n",
    "List_A[3]"
   ]
  },
  {
   "cell_type": "code",
   "execution_count": 10,
   "metadata": {},
   "outputs": [
    {
     "name": "stdout",
     "output_type": "stream",
     "text": [
      "[1, 'two', 3, 'Cuatro', 5, 'Sechs']\n",
      "The lenght of our new list is 6\n",
      "5 Sechs\n",
      "[5, 'Sechs']\n"
     ]
    }
   ],
   "source": [
    "# Can we access a range of elements?\n",
    "# Lets combine List_A and List_B into List_C\n",
    "List_C = List_A + List_B\n",
    "print(List_C)\n",
    "\n",
    "print(f\"The lenght of our new list is {len(List_C)}\")\n",
    "\n",
    "# But I just want 5 and Sechs?\n",
    "# [1:4] Starts at 4, stops at 6, 6 is not included\n",
    "print(List_C[4], List_C[5])\n",
    "print(List_C[4:6])"
   ]
  },
  {
   "attachments": {},
   "cell_type": "markdown",
   "metadata": {},
   "source": [
    "### Iteration and for loops\n",
    "The point of putting data into a list is not only to able to access it easily and organise it\n",
    "We can also ITERATE through it!\n",
    "We do a lot of iteration in programming because this is what makes programming data > Excel"
   ]
  },
  {
   "cell_type": "code",
   "execution_count": null,
   "metadata": {},
   "outputs": [],
   "source": [
    "# for loop\n",
    "for i in List_A:\n",
    "    print(i)\n",
    "\n",
    "# Do you want an index maybe?\n",
    "# Remember python counts from 0\n",
    "for idx, i in enumerate(List_A):\n",
    "    print(idx, i)"
   ]
  },
  {
   "cell_type": "code",
   "execution_count": null,
   "metadata": {},
   "outputs": [],
   "source": [
    "# Simultaneous iteration\n",
    "for A, B in zip(List_AB[0], List_AB[1]):\n",
    "    print(A, B)"
   ]
  },
  {
   "attachments": {},
   "cell_type": "markdown",
   "metadata": {},
   "source": [
    "### Numpy arrays\n",
    "Numpy arrays are essentially Lists, but Lists with sizes that cannot be changed <br>\n",
    "Arrays are more suitable for mathematical application because they ensure size <br>\n",
    "We can have arrays with from 1-dimension to as many as you want <br>\n",
    "That means we can use arrays to represent matrixes"
   ]
  },
  {
   "cell_type": "code",
   "execution_count": 26,
   "metadata": {},
   "outputs": [
    {
     "name": "stdout",
     "output_type": "stream",
     "text": [
      "[1 2 3]\n",
      "<class 'numpy.ndarray'>\n",
      "1\n",
      "[4 5]\n",
      "[1. 1. 1. 1. 1.]\n",
      "[[0. 0. 0.]\n",
      " [0. 0. 0.]\n",
      " [0. 0. 0.]]\n"
     ]
    }
   ],
   "source": [
    "array_A = np.array([1, 2, 3])\n",
    "array_B = np.array([4, 5, 6])\n",
    "\n",
    "print(array_A)\n",
    "print(type(array_A))\n",
    "\n",
    "# We can access array elements just like we did with List!\n",
    "print(array_A[0])\n",
    "print(array_B[0:2])\n",
    "\n",
    "# We can even fill empty arrays with 1s and 0s and create arrays in our desired shape\n",
    "# I want an array with 1-dimension of five 1\n",
    "oneD_array = np.ones(5)\n",
    "print(oneD_array)\n",
    "\n",
    "# I want a 3 row and 3 column (3 by 3) matrix with 0s\n",
    "twoD_array = np.zeros((3, 3))\n",
    "print(twoD_array)"
   ]
  },
  {
   "attachments": {},
   "cell_type": "markdown",
   "metadata": {},
   "source": [
    "### DataFrames\n",
    "DataFrames == Tables == spreadsheet == excels <br>\n",
    "DataFrames is a grid with a value of data in each cell, this table contains rows and column indexed <br>\n",
    "We will be using the package pandas to create and access dataframes!"
   ]
  },
  {
   "cell_type": "code",
   "execution_count": 27,
   "metadata": {},
   "outputs": [
    {
     "data": {
      "text/html": [
       "<div>\n",
       "<style scoped>\n",
       "    .dataframe tbody tr th:only-of-type {\n",
       "        vertical-align: middle;\n",
       "    }\n",
       "\n",
       "    .dataframe tbody tr th {\n",
       "        vertical-align: top;\n",
       "    }\n",
       "\n",
       "    .dataframe thead th {\n",
       "        text-align: right;\n",
       "    }\n",
       "</style>\n",
       "<table border=\"1\" class=\"dataframe\">\n",
       "  <thead>\n",
       "    <tr style=\"text-align: right;\">\n",
       "      <th></th>\n",
       "      <th>0</th>\n",
       "      <th>1</th>\n",
       "      <th>2</th>\n",
       "    </tr>\n",
       "  </thead>\n",
       "  <tbody>\n",
       "    <tr>\n",
       "      <th>0</th>\n",
       "      <td>0.0</td>\n",
       "      <td>0.0</td>\n",
       "      <td>0.0</td>\n",
       "    </tr>\n",
       "    <tr>\n",
       "      <th>1</th>\n",
       "      <td>0.0</td>\n",
       "      <td>0.0</td>\n",
       "      <td>0.0</td>\n",
       "    </tr>\n",
       "    <tr>\n",
       "      <th>2</th>\n",
       "      <td>0.0</td>\n",
       "      <td>0.0</td>\n",
       "      <td>0.0</td>\n",
       "    </tr>\n",
       "  </tbody>\n",
       "</table>\n",
       "</div>"
      ],
      "text/plain": [
       "     0    1    2\n",
       "0  0.0  0.0  0.0\n",
       "1  0.0  0.0  0.0\n",
       "2  0.0  0.0  0.0"
      ]
     },
     "execution_count": 27,
     "metadata": {},
     "output_type": "execute_result"
    }
   ],
   "source": [
    "# Pandas DataFrame\n",
    "# Let's built upon what we just learnt!\n",
    "# Can we put List_A and List_B into a table?\n",
    "Table = pd.DataFrame(twoD_array)\n",
    "\n",
    "Table"
   ]
  },
  {
   "cell_type": "code",
   "execution_count": 57,
   "metadata": {},
   "outputs": [
    {
     "name": "stdout",
     "output_type": "stream",
     "text": [
      "   col1  col2  col3   col4\n",
      "0    -4     4   0.0   True\n",
      "1     2     5   0.0  False\n",
      "2     3     6   0.0  False\n",
      "<class 'pandas.core.frame.DataFrame'>\n",
      "RangeIndex: 3 entries, 0 to 2\n",
      "Data columns (total 4 columns):\n",
      " #   Column  Non-Null Count  Dtype  \n",
      "---  ------  --------------  -----  \n",
      " 0   col1    3 non-null      int64  \n",
      " 1   col2    3 non-null      uint64 \n",
      " 2   col3    3 non-null      float64\n",
      " 3   col4    3 non-null      bool   \n",
      "dtypes: bool(1), float64(1), int64(1), uint64(1)\n",
      "memory usage: 207.0 bytes\n",
      "None\n"
     ]
    }
   ],
   "source": [
    "# We can use multiple type of creating numpy arrays into making a dataframe!\n",
    "\n",
    "df = pd.DataFrame({\"col1\": np.array([-4, 2, 3], dtype = np.int64),\n",
    "                   \"col2\": np.arange(4, 7, 1, dtype = np.uint64),\n",
    "                   \"col3\": np.zeros(3, dtype = np.float64),\n",
    "                   \"col4\": np.array([True, False, False], dtype = bool)})\n",
    " \n",
    "#import pyarrow as pa\n",
    "## Pandas 2.0 and Arrow\n",
    "#\n",
    "#df = pd.DataFrame({\"col1\": pa.array([-193479, 5987349, 1291], type = \"int64\"),\n",
    "#                   \"col2\": pa.array(np.arange(4, 7, 1), type = \"uint64\"),\n",
    "#                   \"col3\": pa.array(np.zeros(3), type = \"float64\"),\n",
    "#                   \"col4\": pa.array([True, False, False], type = \"bool\")})\n",
    "\n",
    "print(df)\n",
    "\n",
    "print(df.info())"
   ]
  },
  {
   "cell_type": "markdown",
   "metadata": {},
   "source": [
    "### Let's look at E&S Data"
   ]
  },
  {
   "cell_type": "code",
   "execution_count": null,
   "metadata": {},
   "outputs": [],
   "source": [
    "# Pandas 2.0\n",
    "ESData = pd.read_csv(f\"{data_raw}/ESData_sample.csv\", engine = \"pyarrow\", dtype_backend = \"pyarrow\", sep = \";\")\n",
    "#ESData = pd.read_csv(f\"{data_raw}/ESData_sample.csv\", sep = \";\")\n",
    "\n",
    "ESData.sample(n = 8)"
   ]
  },
  {
   "cell_type": "code",
   "execution_count": null,
   "metadata": {},
   "outputs": [],
   "source": []
  }
 ],
 "metadata": {
  "kernelspec": {
   "display_name": "Python 3",
   "language": "python",
   "name": "python3"
  },
  "language_info": {
   "codemirror_mode": {
    "name": "ipython",
    "version": 3
   },
   "file_extension": ".py",
   "mimetype": "text/x-python",
   "name": "python",
   "nbconvert_exporter": "python",
   "pygments_lexer": "ipython3",
   "version": "3.11.2"
  },
  "orig_nbformat": 4
 },
 "nbformat": 4,
 "nbformat_minor": 2
}
