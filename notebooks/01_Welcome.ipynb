{
 "cells": [
  {
   "cell_type": "code",
   "execution_count": 2,
   "id": "4af6881b-99af-43a4-bfe9-1710297919f0",
   "metadata": {},
   "outputs": [],
   "source": [
    "##############################\n",
    "#01 Welcome to Python 4 data #\n",
    "#Maintainer: Christopher Chan#\n",
    "#Version: 0.0.1              #\n",
    "#Date: 2023-04-06            #\n",
    "##############################\n",
    "\n",
    "import os, sys, re\n",
    "import pathlib\n",
    "import random\n",
    "import numpy as np\n",
    "import pandas as pd"
   ]
  },
  {
   "attachments": {},
   "cell_type": "markdown",
   "id": "9e8183e8",
   "metadata": {},
   "source": [
    "## Welcome! Well done for setting up and getting this far\n",
    "\n",
    "You have got one of the hardest part completed. This tutorial will hopefully be the start of your python journey in ESG data!\n",
    "\n",
    "### Course objectives\n",
    "1. Establish the reasons for python (or any scripting languages) in Data Governance\n",
    "2. Transfer basic and extendable skills that will be useful for your current tasks\\\n",
    "    a. Syntax\\\n",
    "    b. Data Wrangle\\\n",
    "    c. Plotting\n",
    "\n",
    "3. Establish good scripting etiquette and practices\n",
    "4. Explore potentials\n",
    "\n",
    "### 01_Welcome goals\n",
    "1. Why python\n",
    "2. Basic syntax\n",
    "3. Look at some data"
   ]
  },
  {
   "attachments": {},
   "cell_type": "markdown",
   "id": "a78725fe",
   "metadata": {},
   "source": [
    "### The first thing\n",
    "\n",
    "Write down the Title, Name, Version, and Date of the writtern script.\n",
    "Then, import all the modules that you will need.\n",
    "Establish paths and current paths, set paths to your data"
   ]
  },
  {
   "cell_type": "code",
   "execution_count": 5,
   "id": "15ee50c2",
   "metadata": {},
   "outputs": [
    {
     "name": "stdout",
     "output_type": "stream",
     "text": [
      "c:\\Users\\chanyan\\ISS\\ESG SITE - Python4data_zeroTOmiso\\notebooks\n",
      "['.gitkeep', 'ESData_sample.csv']\n"
     ]
    }
   ],
   "source": [
    "# Print your current working directory, you are currently working here\n",
    "print(os.getcwd())\n",
    "\n",
    "# Path to folder data/raw <-- This is where our data is stored \n",
    "data_raw = pathlib.Path(\"../data/raw\")\n",
    "\n",
    "# Let's see if our E&S Data is in that folder?\n",
    "print(os.listdir(f\"{data_raw}\"))"
   ]
  },
  {
   "attachments": {},
   "cell_type": "markdown",
   "id": "5ca54ab7",
   "metadata": {},
   "source": [
    "### Python\n",
    "\n",
    "Python is a popular programming languages, especially for data science. This is mainly due to its readability and extensive library.\n",
    "From webscrapping, making pretty plots, to Artificial Intelligence, python can almost do it all!\n",
    "However, python is relatively annoying to learn if you have no programming experience\n",
    "\n"
   ]
  }
 ],
 "metadata": {
  "kernelspec": {
   "display_name": "Python 3 (ipykernel)",
   "language": "python",
   "name": "python3"
  },
  "language_info": {
   "codemirror_mode": {
    "name": "ipython",
    "version": 3
   },
   "file_extension": ".py",
   "mimetype": "text/x-python",
   "name": "python",
   "nbconvert_exporter": "python",
   "pygments_lexer": "ipython3",
   "version": "3.11.2"
  }
 },
 "nbformat": 4,
 "nbformat_minor": 5
}
