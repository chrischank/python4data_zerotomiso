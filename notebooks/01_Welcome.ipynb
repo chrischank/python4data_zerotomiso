{
 "cells": [
  {
   "cell_type": "code",
   "execution_count": 123,
   "id": "4af6881b-99af-43a4-bfe9-1710297919f0",
   "metadata": {},
   "outputs": [],
   "source": [
    "##############################\n",
    "#01 Welcome to Python 4 data #\n",
    "#Maintainer: Christopher Chan#\n",
    "#Version: 0.1.1              #\n",
    "#Date: 2023-04-13            #\n",
    "##############################\n",
    "\n",
    "import os, sys, re\n",
    "import pathlib\n",
    "import random\n",
    "import numpy as np\n",
    "import pandas as pd\n",
    "import datetime as dt"
   ]
  },
  {
   "attachments": {},
   "cell_type": "markdown",
   "id": "9e8183e8",
   "metadata": {},
   "source": [
    "## Welcome! Well done for setting up and getting this far\n",
    "\n",
    "You have got one of the hardest part completed. This tutorial will hopefully be the start of your python journey in ESG data!\n",
    "\n",
    "### Course objectives\n",
    "1. Establish the reasons for python (or any scripting languages) in Data Governance\n",
    "2. Transfer basic and extendable skills that will be useful for your current tasks\\\n",
    "    a. Syntax\\\n",
    "    b. Data Wrangle\\\n",
    "    c. Plotting\n",
    "\n",
    "3. Establish good scripting etiquette and practices\n",
    "4. Explore potentials\n",
    "\n",
    "### 01_Welcome goals\n",
    "1. Why python\n",
    "2. Basic syntax\n",
    "3. Look at some data\n",
    "\n",
    "Also, welcome to an .ipynb an IPython Notebook, a notebook got it's name from a scientific notebook. Which means that this is a place where a data analyst/scientist like you could write down proofs and reproducable research with comments and graphs and pictures like this:"
   ]
  },
  {
   "attachments": {},
   "cell_type": "markdown",
   "id": "478f6e05",
   "metadata": {},
   "source": [
    "![copernicus_notebook.png](../readme_figs/copernicus_notebook.png)"
   ]
  },
  {
   "attachments": {},
   "cell_type": "markdown",
   "id": "a78725fe",
   "metadata": {},
   "source": [
    "### The first thing\n",
    "\n",
    "Write down the Title, Name, Version, and Date of the writtern script.\n",
    "Then, import all the modules that you will need.\n",
    "Establish paths and current paths, set paths to your data.\n",
    "Start every notebook or scripts like this, you future self will thank you."
   ]
  },
  {
   "cell_type": "code",
   "execution_count": 124,
   "id": "5b9fff83",
   "metadata": {},
   "outputs": [],
   "source": [
    "###########################################\n",
    "#01_Welcome notebook for zeroTomiso course#\n",
    "#Maintainer: {Your Name}                  #\n",
    "#Date: {2048-09-32}                       #\n",
    "#Version: 0.1.0                           #\n",
    "###########################################\n",
    "\n",
    "# import all your necessary modules/packages\n",
    "import os, sys, re\n",
    "import pathlib\n",
    "import random\n",
    "import numpy as np\n",
    "import pandas as pd\n",
    "import datetime as dt"
   ]
  },
  {
   "cell_type": "code",
   "execution_count": 125,
   "id": "15ee50c2",
   "metadata": {},
   "outputs": [
    {
     "name": "stdout",
     "output_type": "stream",
     "text": [
      "c:\\Users\\chanyan\\ISS\\ESG SITE - Python4data_zeroTOmiso\\notebooks\n",
      "['.gitkeep', 'ESData_sample.csv']\n"
     ]
    }
   ],
   "source": [
    "# Print your current working directory, you are currently working here\n",
    "print(os.getcwd())\n",
    "\n",
    "# Path to folder data/raw <-- This is where our data is stored \n",
    "data_raw = pathlib.Path(\"../data/raw\")\n",
    "\n",
    "# Let's see if our E&S Data is in that folder?\n",
    "print(os.listdir(f\"{data_raw}\"))"
   ]
  },
  {
   "attachments": {},
   "cell_type": "markdown",
   "id": "5ca54ab7",
   "metadata": {},
   "source": [
    "### Python\n",
    "\n",
    "Python is a popular programming languages, especially for data science. This is mainly due to its readability and extensive library.\n",
    "From webscrapping, making pretty plots, to Artificial Intelligence, python can almost do it all!\n",
    "However, python is relatively annoying to learn if you have no programming experience\n",
    "I hope this course will make things easier and that you will find interest in it.\n",
    "\n",
    "### Basic data type: Integer"
   ]
  },
  {
   "cell_type": "code",
   "execution_count": 126,
   "id": "a216e2fd",
   "metadata": {},
   "outputs": [
    {
     "name": "stdout",
     "output_type": "stream",
     "text": [
      "<class 'int'> <class 'int'>\n"
     ]
    }
   ],
   "source": [
    "integer1 = 1\n",
    "integer_neg1 = -1\n",
    "\n",
    "print(type(integer1), type(integer_neg1))"
   ]
  },
  {
   "attachments": {},
   "cell_type": "markdown",
   "id": "6b81fbd9",
   "metadata": {},
   "source": [
    "numpy has more integer types we mentioned in the presentation, this allow for finer control, say when you don't want the input or output to allow negative integer or not."
   ]
  },
  {
   "cell_type": "code",
   "execution_count": 127,
   "id": "72e6fa31",
   "metadata": {},
   "outputs": [
    {
     "name": "stdout",
     "output_type": "stream",
     "text": [
      "integer of 2 is -2 BUT unsigned integer of -3: 4294967293?\n"
     ]
    }
   ],
   "source": [
    "# numpy integers and unsigned integer\n",
    "# remember, integer allows for NEGATIVE WHOLE NUMBER\n",
    "# Unsigned integers only takes POSITIVE WHOLE NUMBER\n",
    "\n",
    "np_integer2 = np.array(-2).astype(np.int32)\n",
    "np_unsigned_int3 = np.array(-3).astype(np.uint32)\n",
    "\n",
    "print(f\"integer of 2 is {np_integer2} BUT unsigned integer of -3: {np_unsigned_int3}?\")"
   ]
  },
  {
   "attachments": {},
   "cell_type": "markdown",
   "id": "59d9bf1a",
   "metadata": {},
   "source": [
    "### We will come back to this, but first, integer arithmetics (+ - * /)"
   ]
  },
  {
   "cell_type": "code",
   "execution_count": 128,
   "id": "d0f1a81c",
   "metadata": {},
   "outputs": [
    {
     "name": "stdout",
     "output_type": "stream",
     "text": [
      "6\n",
      "422008\n",
      "331.0\n",
      "27\n",
      "6.48074069840786\n",
      "True\n",
      "True\n",
      "The answer for 94.82 ** 1.234 is 275.10250154858977, but the integer answer is 275!\n"
     ]
    }
   ],
   "source": [
    "print(3 + 3)\n",
    "print(34 * 12412)\n",
    "print(993 / 3)\n",
    "print(3 ** 3) # ** = power\n",
    "print(np.sqrt(42))\n",
    "\n",
    "print(np.sqrt(3 ** 3) == np.sqrt(27))\n",
    "\n",
    "result = 94.82 ** 1.234\n",
    "int_result = np.int32(result)\n",
    "print(np.sqrt(94.82 ** 1.234) == np.sqrt(result))\n",
    "\n",
    "# O wait, remember we just learnt that integer allow for\n",
    "print(f\"The answer for 94.82 ** 1.234 is {result}, but the integer answer is {int_result}!\")"
   ]
  },
  {
   "attachments": {},
   "cell_type": "markdown",
   "id": "63fca359",
   "metadata": {},
   "source": [
    "### Basic data type: Float"
   ]
  },
  {
   "cell_type": "code",
   "execution_count": 129,
   "id": "69b485ec",
   "metadata": {},
   "outputs": [
    {
     "name": "stdout",
     "output_type": "stream",
     "text": [
      "<class 'float'>\n",
      "<class 'float'>\n",
      "2394.0\n",
      "80.55710930178782\n"
     ]
    }
   ],
   "source": [
    "print(type(2400.34))\n",
    "print(type(99.0))\n",
    "\n",
    "random_integer = 2394\n",
    "print(np.float32(random_integer))\n",
    "\n",
    "# Can we do arithmetic on both types?\n",
    "print(np.int32(9999) / np.float32(124.1231254)) # Yes we can!"
   ]
  },
  {
   "attachments": {},
   "cell_type": "markdown",
   "id": "cefcfaeb",
   "metadata": {},
   "source": [
    "### Basic data type: String"
   ]
  },
  {
   "cell_type": "code",
   "execution_count": 130,
   "id": "5e630ede",
   "metadata": {},
   "outputs": [
    {
     "name": "stdout",
     "output_type": "stream",
     "text": [
      "<class 'str'>\n",
      "T\n",
      "This is a string!String is just a list of characters!\n",
      "This is a string! String is just a list of characters!\n",
      "True\n",
      "False\n",
      "So, it seems that string in String1 is TRUE but not in String 2? strings are case sensitive!\n",
      "True\n",
      "True\n",
      "True\n",
      "True\n",
      "There are 27 many characters in String4.\n",
      "The first character in String4 is s.\n",
      "The last character in String3 is ?.\n"
     ]
    },
    {
     "ename": "TypeError",
     "evalue": "can't multiply sequence by non-int of type 'str'",
     "output_type": "error",
     "traceback": [
      "\u001b[1;31m---------------------------------------------------------------------------\u001b[0m",
      "\u001b[1;31mTypeError\u001b[0m                                 Traceback (most recent call last)",
      "Cell \u001b[1;32mIn[130], line 37\u001b[0m\n\u001b[0;32m     34\u001b[0m \u001b[39mprint\u001b[39m(\u001b[39mf\u001b[39m\u001b[39m\"\u001b[39m\u001b[39mThe last character in String3 is \u001b[39m\u001b[39m{\u001b[39;00mString3[\u001b[39m-\u001b[39m\u001b[39m1\u001b[39m]\u001b[39m}\u001b[39;00m\u001b[39m.\u001b[39m\u001b[39m\"\u001b[39m)\n\u001b[0;32m     36\u001b[0m \u001b[39m# Can I minus or multiple strings?\u001b[39;00m\n\u001b[1;32m---> 37\u001b[0m \u001b[39mprint\u001b[39m(String1 \u001b[39m*\u001b[39;49m String2)\n",
      "\u001b[1;31mTypeError\u001b[0m: can't multiply sequence by non-int of type 'str'"
     ]
    }
   ],
   "source": [
    "String1 = \"This is a string!\"\n",
    "String2 = \"String is just a list of characters!\"\n",
    "\n",
    "print(type(String1))\n",
    "print(String1[0])\n",
    "\n",
    "# What happens when you add strings together\n",
    "print(String1 + String2)\n",
    "\n",
    "# Woops, theres no spaces, let's add spaces\n",
    "print(String1 + \" \" + String2)\n",
    "\n",
    "# We can check if words are in a string!\n",
    "# Let's check if the word string is in either strings\n",
    "print(\"string\" in String1)\n",
    "print(\"string\" in String2)\n",
    "\n",
    "String3 = \"So, it seems that string in String1 is TRUE but not in String 2?\"\n",
    "String4 = \"strings are case sensitive!\"\n",
    "\n",
    "# We can also print strings with spaces in between by using a comma\n",
    "print(String3, String4)\n",
    "\n",
    "# Other than in, we can do multiple things\n",
    "print(\"python\" not in String3)\n",
    "print(String3.startswith(\"So,\"))\n",
    "print(String4.endswith(\"!\"))\n",
    "\n",
    "print(String4.endswith(\"!\") & String1.endswith(\"!\"))\n",
    "\n",
    "# How many characters are there in String4?\n",
    "print(f\"There are {len(String4)} many characters in String4.\")\n",
    "print(f\"The first character in String4 is {String4[0]}.\")\n",
    "print(f\"The last character in String3 is {String3[-1]}.\")\n",
    "\n",
    "# Can I minus or multiple strings?\n",
    "print(String1 * String2)"
   ]
  },
  {
   "attachments": {},
   "cell_type": "markdown",
   "id": "5217fb90",
   "metadata": {},
   "source": [
    "### Special Data Type: datetime\n",
    "It is encouraged to use ISO format\n",
    "%yyyy-%mm-%dd for standardisation"
   ]
  },
  {
   "cell_type": "code",
   "execution_count": 172,
   "id": "8e102d9c",
   "metadata": {},
   "outputs": [
    {
     "name": "stdout",
     "output_type": "stream",
     "text": [
      "2023-04-13 16:26:47.735884\n",
      "2023-04-13\n",
      "16:26:47.736892\n",
      "2023\n",
      "4\n",
      "13\n",
      "<class 'datetime.date'>\n",
      "<class 'int'>\n",
      "Our AI overlord will takeover at: 2040-01-01.\n",
      "The date that Mongolian invaded Krakow was: 1241-03-22\n",
      "291748 days, 0:00:00\n",
      "Given an average life expectancy of 60 years, \n",
      "it's only a little over 13.312708190736938 generations, \n",
      "between Mongol sieging Krakow and potential AI takeover.\n"
     ]
    }
   ],
   "source": [
    "# Print today\n",
    "# We can see that dt.datetime object contains both date and time\n",
    "print(dt.datetime.today())\n",
    "\n",
    "# We can have each component each\n",
    "print(dt.datetime.today().date())\n",
    "print(dt.datetime.today().time())\n",
    "\n",
    "# Print today's month\n",
    "print(dt.datetime.today().year)\n",
    "print(dt.datetime.today().month)\n",
    "print(dt.datetime.today().day)\n",
    "\n",
    "# Great! However, dt.datetime is a special object, once it is broken apart, they become integer\n",
    "print(type(dt.datetime.today().date()))\n",
    "print(type(dt.datetime.today().year))\n",
    "\n",
    "# Can we create a variable with Ancient or Future dates?\n",
    "\n",
    "# When will Artificial General Intelligence takeover? https://ourworldindata.org/ai-timelines\n",
    "Ai_takeover_date = dt.datetime.fromisoformat(\"2040-01-01\").date()\n",
    "print(f\"Our AI overlord will takeover at: {Ai_takeover_date}.\")\n",
    "\n",
    "# When did the Mongol sieged Krakow? https://en.wikipedia.org/wiki/Sack_of_Krak%C3%B3w_(1241)\n",
    "Mongol_krakow_siege = dt.date(year = 1241, month = 3, day = 22)\n",
    "print(f\"The date that Mongolian invaded Krakow was: {Mongol_krakow_siege}\")\n",
    "\n",
    "# What's the time difference between AI taking over and Mongol european campaign?\n",
    "# Can we do date arithmetic?\n",
    "print(Ai_takeover_date - Mongol_krakow_siege)\n",
    "\n",
    "print(\"Given an average life expectancy of 60 years, \\n\"\n",
    "      f\"it's only a little over {(Ai_takeover_date - Mongol_krakow_siege).days/365.25/60} generations, \\n\"\n",
    "      \"between Mongol sieging Krakow and potential AI takeover.\")"
   ]
  },
  {
   "attachments": {},
   "cell_type": "markdown",
   "id": "230a3898",
   "metadata": {},
   "source": [
    "### Special Data Type: NULL/NaN\n",
    "\n",
    "Null types are NOT 0, Null types are null types!"
   ]
  },
  {
   "cell_type": "code",
   "execution_count": 157,
   "id": "0fb2ca6a",
   "metadata": {},
   "outputs": [
    {
     "name": "stdout",
     "output_type": "stream",
     "text": [
      "None\n",
      "nan\n",
      "<class 'NoneType'>\n",
      "<class 'float'>\n"
     ]
    }
   ],
   "source": [
    "# Built in None types and numpy nan are not the same!\n",
    "print(None)\n",
    "print(np.nan)\n",
    "\n",
    "print(type(None))\n",
    "print(type(np.nan))"
   ]
  },
  {
   "attachments": {},
   "cell_type": "markdown",
   "id": "6afe8340",
   "metadata": {},
   "source": [
    "### Basic LOGIC"
   ]
  },
  {
   "attachments": {},
   "cell_type": "markdown",
   "id": "0e2ad59c",
   "metadata": {},
   "source": [
    "![boolean-pumpkins](../readme_figs/boolean-pumpkins.jpg)"
   ]
  },
  {
   "cell_type": "code",
   "execution_count": 90,
   "id": "fc44d2f6",
   "metadata": {},
   "outputs": [
    {
     "name": "stdout",
     "output_type": "stream",
     "text": [
      "True\n",
      "False\n",
      "True\n",
      "True\n",
      "True and False is... False\n",
      "True and True is... True\n",
      "True or False is... True\n",
      "| and or are the same thing: True\n",
      "& and and are the same thing: True\n",
      "True\n",
      "False\n",
      "True\n"
     ]
    }
   ],
   "source": [
    "# Basic arithmetic and Logic\n",
    "print(99 > 98)\n",
    "print(0.2 > 0.4)\n",
    "print(True == True)\n",
    "\n",
    "print(99/3 == 99.32423//3)\n",
    "\n",
    "print(f\"True and False is... {True and False}\")\n",
    "print(f\"True and True is... {True and True}\")\n",
    "print(f\"True or False is... {True | False}\")\n",
    "\n",
    "print(f\"| and or are the same thing: {(True | False) == (True or False)}\")\n",
    "print(f\"& and and are the same thing: {(True & False) == (True and False)}\")\n",
    "\n",
    "print(True != False)    # not equal\n",
    "print(not(True or False))   # NOR\n",
    "\n",
    "# We can stack logic together!\n",
    "print((True != False) == (not(True == False)))"
   ]
  }
 ],
 "metadata": {
  "kernelspec": {
   "display_name": "Python 3 (ipykernel)",
   "language": "python",
   "name": "python3"
  },
  "language_info": {
   "codemirror_mode": {
    "name": "ipython",
    "version": 3
   },
   "file_extension": ".py",
   "mimetype": "text/x-python",
   "name": "python",
   "nbconvert_exporter": "python",
   "pygments_lexer": "ipython3",
   "version": "3.11.2"
  }
 },
 "nbformat": 4,
 "nbformat_minor": 5
}
