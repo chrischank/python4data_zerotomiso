{
 "cells": [
  {
   "cell_type": "code",
   "execution_count": 2,
   "metadata": {},
   "outputs": [],
   "source": [
    "#####################################\n",
    "#02 Data order, list, df and wrangle#\n",
    "#Maintainer: Christopher Chan       #\n",
    "#Date: 2023-05-04                   #\n",
    "#Version: 0.1.2                     #\n",
    "#####################################\n",
    "\n",
    "# Import all necessary packages\n",
    "import os, sys, re\n",
    "import random\n",
    "import pathlib\n",
    "import numpy as np\n",
    "import pandas as pd\n",
    "#import pyarrow as pa\n",
    "\n",
    "# Load all the paths we might use later\n",
    "data_raw = pathlib.Path(\"../data/raw\")\n",
    "data_external = pathlib.Path(\"../data/external\")"
   ]
  },
  {
   "attachments": {},
   "cell_type": "markdown",
   "metadata": {},
   "source": [
    "## Welcome to 02_Order_Iteration!\n",
    "Now that we have learnt the basics of python data types and syntax, we can actually work with some data!\n",
    "Python data are organised in several formats:\n",
    "- Lists, Arrays <br>\n",
    "<t> Lists and arrays can hold multiple data within it, lists of lists, and lists of objects can also be made <br>\n",
    "<t> Lists and arrays are iterable objects, (i.e. you can print it one by one)\n",
    "\n",
    "- Dictionaries\n",
    "- Matrixes\n",
    "- DataFrames"
   ]
  },
  {
   "attachments": {},
   "cell_type": "markdown",
   "metadata": {},
   "source": [
    "### Lists & Indexing Lists\n",
    "Lists are lists, you can put data in lists, whether that be string, float, or integers. You can put a list in list, a function in list. You name it!\n",
    "A list within a list is called a \"NESTED LIST\"!\n",
    "\n",
    "Nested List:\n",
    "- List_AB:\n",
    "    - List A: 1, \"બે\", \"三\"\n",
    "    - List_B: \"Cuatro\", 5, \"Sechs\""
   ]
  },
  {
   "cell_type": "code",
   "execution_count": 24,
   "metadata": {},
   "outputs": [
    {
     "name": "stdout",
     "output_type": "stream",
     "text": [
      "[1, 'બે', '三'] ['Cuatro', 5, 'Sechs']\n",
      "<class 'list'> <class 'list'>\n",
      "[[1, 'બે', '三'], ['Cuatro', 5, 'Sechs']]\n",
      "<class 'list'>\n",
      "The first element of List_B is: Cuatro\n",
      "The last element of List_B is: Sechs\n"
     ]
    },
    {
     "ename": "IndexError",
     "evalue": "list index out of range",
     "output_type": "error",
     "traceback": [
      "\u001b[1;31m---------------------------------------------------------------------------\u001b[0m",
      "\u001b[1;31mIndexError\u001b[0m                                Traceback (most recent call last)",
      "Cell \u001b[1;32mIn[24], line 20\u001b[0m\n\u001b[0;32m     17\u001b[0m \u001b[39mprint\u001b[39m(\u001b[39mf\u001b[39m\u001b[39m\"\u001b[39m\u001b[39mThe last element of List_B is: \u001b[39m\u001b[39m{\u001b[39;00mList_B[\u001b[39m-\u001b[39m\u001b[39m1\u001b[39m]\u001b[39m}\u001b[39;00m\u001b[39m\"\u001b[39m)\n\u001b[0;32m     19\u001b[0m \u001b[39m# Python counts from 0, List_A has 4 items in it\u001b[39;00m\n\u001b[1;32m---> 20\u001b[0m List_A[\u001b[39m3\u001b[39;49m]\n",
      "\u001b[1;31mIndexError\u001b[0m: list index out of range"
     ]
    }
   ],
   "source": [
    "# Let's make some list of numbers\n",
    "List_A = [1, \"બે\", \"三\"]\n",
    "List_B = list((\"Cuatro\", 5, \"Sechs\"))\n",
    "\n",
    "print(List_A, List_B)\n",
    "print(type(List_A), type(List_B))\n",
    "\n",
    "# We can put 2 list into 1 list!\n",
    "List_AB = [List_A, List_B]\n",
    "\n",
    "print(List_AB)\n",
    "print(type(List_AB))\n",
    "\n",
    "# How do we access list?\n",
    "List_B[0]\n",
    "print(f\"The first element of List_B is: {List_B[0]}\")\n",
    "print(f\"The last element of List_B is: {List_B[-1]}\")\n",
    "\n",
    "# Python counts from 0, List_A has 4 items in it\n",
    "List_A[3]"
   ]
  },
  {
   "cell_type": "code",
   "execution_count": 25,
   "metadata": {},
   "outputs": [
    {
     "name": "stdout",
     "output_type": "stream",
     "text": [
      "[1, 'બે', '三', 'Cuatro', 5, 'Sechs']\n",
      "The lenght of our new list is 6\n",
      "5 Sechs\n",
      "[5, 'Sechs']\n"
     ]
    }
   ],
   "source": [
    "# Can we access a range of elements?\n",
    "# Lets combine List_A and List_B into List_C\n",
    "List_C = List_A + List_B\n",
    "print(List_C)\n",
    "\n",
    "print(f\"The lenght of our new list is {len(List_C)}\")\n",
    "\n",
    "# But I just want 5 and Sechs?\n",
    "# [1:4] Starts at 4, stops at 6, 6 is not included\n",
    "print(List_C[4], List_C[5])\n",
    "print(List_C[4:6])"
   ]
  },
  {
   "attachments": {},
   "cell_type": "markdown",
   "metadata": {},
   "source": [
    "### Iteration and for loops\n",
    "The point of putting data into a list is not only to able to access it easily and organise it\n",
    "We can also ITERATE through it!\n",
    "We do a lot of iteration in programming because this is what makes programming data > Excel"
   ]
  },
  {
   "cell_type": "code",
   "execution_count": 26,
   "metadata": {},
   "outputs": [
    {
     "name": "stdout",
     "output_type": "stream",
     "text": [
      "1\n",
      "બે\n",
      "三\n",
      "0 1\n",
      "1 બે\n",
      "2 三\n"
     ]
    }
   ],
   "source": [
    "# for loop\n",
    "for i in List_A:\n",
    "    print(i)\n",
    "\n",
    "# Do you want an index maybe?\n",
    "# Remember python counts from 0\n",
    "for idx, i in enumerate(List_A):\n",
    "    print(idx, i)"
   ]
  },
  {
   "cell_type": "code",
   "execution_count": 27,
   "metadata": {},
   "outputs": [
    {
     "name": "stdout",
     "output_type": "stream",
     "text": [
      "1 Cuatro\n",
      "બે 5\n",
      "三 Sechs\n"
     ]
    }
   ],
   "source": [
    "# Simultaneous iteration\n",
    "for A, B in zip(List_AB[0], List_AB[1]):\n",
    "    print(A, B)"
   ]
  },
  {
   "cell_type": "code",
   "execution_count": 28,
   "metadata": {},
   "outputs": [
    {
     "name": "stdout",
     "output_type": "stream",
     "text": [
      "બે\n",
      "三\n",
      "Cuatro\n",
      "Sechs\n"
     ]
    }
   ],
   "source": [
    "# We can change things in a loop!\n",
    "for i in List_C:\n",
    "    if type(i) == str:\n",
    "        print(i)"
   ]
  },
  {
   "cell_type": "code",
   "execution_count": 30,
   "metadata": {},
   "outputs": [
    {
     "name": "stdout",
     "output_type": "stream",
     "text": [
      "The data 1 is an integer\n",
      "The data બે is a string\n",
      "The data 三 is a string\n",
      "The data Cuatro is a string\n",
      "The data 5 is an integer\n",
      "The data Sechs is a string\n",
      "\n",
      " Now with Enumeration\n",
      "The data 1 at position 1 is an integer\n",
      "The data બે at position 2 is a string\n",
      "The data 三 at position 3 is a string\n",
      "The data Cuatro at position 4 is a string\n",
      "The data 5 at position 5 is an integer\n",
      "The data Sechs at position 6 is a string\n"
     ]
    }
   ],
   "source": [
    "# If and elif (else-if) allows you to create condition within the for loop iteration\n",
    "for i in List_C:\n",
    "    if type(i) == str:\n",
    "        print(f\"The data {i} is a string\")\n",
    "    elif type(i) == int:\n",
    "        print(f\"The data {i} is an integer\")\n",
    "\n",
    "print(\"\\n Now with Enumeration\")\n",
    "\n",
    "for idx, j in enumerate(List_C):\n",
    "    if type(j) == str:\n",
    "        print(f\"The data {j} at position {idx + 1} is a string\")\n",
    "    elif type(j) == int:\n",
    "        print(f\"The data {j} at position {idx + 1} is an integer\")"
   ]
  },
  {
   "attachments": {},
   "cell_type": "markdown",
   "metadata": {},
   "source": [
    "### Numpy arrays & Indexing arrays\n",
    "Numpy arrays are essentially Lists, but Lists with sizes that cannot be changed <br>\n",
    "Arrays are more suitable for mathematical application because they ensure size <br>\n",
    "We can have arrays with from 1-dimension to as many as you want <br>\n",
    "That means we can use arrays to represent matrixes"
   ]
  },
  {
   "cell_type": "code",
   "execution_count": 31,
   "metadata": {},
   "outputs": [
    {
     "name": "stdout",
     "output_type": "stream",
     "text": [
      "[1 2 3]\n",
      "<class 'numpy.ndarray'>\n",
      "1\n",
      "[4 5]\n",
      "[1. 1. 1. 1. 1.]\n",
      "[[0. 0. 0.]\n",
      " [0. 0. 0.]\n",
      " [0. 0. 0.]]\n"
     ]
    }
   ],
   "source": [
    "array_A = np.array([1, 2, 3])\n",
    "array_B = np.array([4, 5, 6])\n",
    "\n",
    "print(array_A)\n",
    "print(type(array_A))\n",
    "\n",
    "# We can access array elements just like we did with List!\n",
    "print(array_A[0])\n",
    "print(array_B[0:2])\n",
    "\n",
    "# We can even fill empty arrays with 1s and 0s and create arrays in our desired shape\n",
    "# I want an array with 1-dimension of five 1\n",
    "oneD_array = np.ones(5)\n",
    "print(oneD_array)\n",
    "\n",
    "# I want a 3 row and 3 column (3 by 3) matrix with 0s\n",
    "twoD_array = np.zeros((3, 3))\n",
    "print(twoD_array)"
   ]
  },
  {
   "cell_type": "code",
   "execution_count": 50,
   "metadata": {},
   "outputs": [
    {
     "name": "stdout",
     "output_type": "stream",
     "text": [
      "[ 0  1  2  3  4  5  6  7  8  9 10 11 12 13 14 15 16 17 18 19 20 21 22 23\n",
      " 24 25 26 27 28 29]\n",
      "[  4  24  44  64  84 104 124 144 164 184 204 224 244 264 284 304 324 344\n",
      " 364 384]\n",
      "[[0.53476439 0.33130651 0.88715264 0.55860861 0.5578236 ]\n",
      " [0.11533255 0.27006608 0.10272398 0.28113251 0.90394257]\n",
      " [0.16919041 0.26176463 0.96653513 0.72430497 0.85176908]\n",
      " [0.51906424 0.61578073 0.05866365 0.45988019 0.35889384]\n",
      " [0.67100903 0.8412291  0.43328698 0.6505899  0.43065478]]\n"
     ]
    }
   ],
   "source": [
    "# More creative ways of making arrays\n",
    "\n",
    "# Array range from 0 to 29\n",
    "array_C = np.arange(30)\n",
    "print(array_C)\n",
    "\n",
    "# Array range from 4 to 400 with an interval of 20\n",
    "# We can see the output is just shy of 400\n",
    "array_D = np.arange(4, 400, 20)\n",
    "print(array_D)\n",
    "\n",
    "# Random 2-dimension array of 5 by 5\n",
    "random_array = np.random.rand(5, 5)\n",
    "print(random_array)"
   ]
  },
  {
   "cell_type": "code",
   "execution_count": 63,
   "metadata": {},
   "outputs": [
    {
     "name": "stdout",
     "output_type": "stream",
     "text": [
      "[[[305 382 359 151 401 327 432 128 422 254]\n",
      "  [124 333 188 252 262 371  44 154 266 103]\n",
      "  [305  41 329 173 215 355 153 241 183 104]\n",
      "  [ 60 138 111  79 301 360 433 480 433  57]\n",
      "  [425 285 395 449  70 135 487   2 369 144]\n",
      "  [145  24 496  26 340 313  61 403 143 443]\n",
      "  [447 386 139 428 402 189 326 333 498 489]\n",
      "  [350 227  91 435 394 281 404 192  64 350]\n",
      "  [361  30 271  46 284 475 184 232 409 237]\n",
      "  [429 484 229 261  78   8 178  16 407 107]]\n",
      "\n",
      " [[362  38 100 262 364 214 280 400   5 170]\n",
      "  [ 32 309 255 253 457 407 141 288 100 272]\n",
      "  [468 225 105 459 229 483 386  43 384 138]\n",
      "  [ 47 246 239 211 325 395 400 420  96  14]\n",
      "  [459 486 472 336 405 415 353 108 137 288]\n",
      "  [298   3 484 210 416 304 418  99 384 151]\n",
      "  [ 58 435 396  32 418 152 128 443 351 139]\n",
      "  [472  51 382 416 176 201 224 343 242 399]\n",
      "  [207 213 426 152 365   4  16 175 242  76]\n",
      "  [ 46 371 335 139  29 373 493  23 306  68]]\n",
      "\n",
      " [[358  23 244  16 143 255 172 258 493 233]\n",
      "  [454 466 464  93 265 333 271  34 305 457]\n",
      "  [124 220 220  86  49 151 142 310 416 247]\n",
      "  [ 64 335 413 210 118 159 415 469 378 386]\n",
      "  [317  24 400  65 495 421 307  88 205 476]\n",
      "  [361 144 440 412 413 418 369 345 462 381]\n",
      "  [ 50  35 157  61  17 473 124 364 395 187]\n",
      "  [179 435 163 185 211 382  87 483  14 303]\n",
      "  [ 42 238 425 444 369  63   7 283 416 106]\n",
      "  [286 289 406  13 389  77 333 237  77 132]]]\n"
     ]
    }
   ],
   "source": [
    "# Random 3-dimesnion array of 10 by 10 by 3 (layer, row, column)\n",
    "# With maximum integer limit of 500\n",
    "ThreeD_RandArray = np.random.randint(500, size = (3, 10, 10))\n",
    "print(ThreeD_RandArray)"
   ]
  },
  {
   "cell_type": "code",
   "execution_count": 66,
   "metadata": {},
   "outputs": [
    {
     "name": "stdout",
     "output_type": "stream",
     "text": [
      "29\n",
      "29\n",
      "True\n",
      "0.4598801911186743\n",
      "(array([29], dtype=int64),)\n",
      "459\n",
      "(array([1, 1], dtype=int64), array([2, 4], dtype=int64), array([3, 0], dtype=int64))\n",
      "[[305 382 359 151 401 327 432 128 422 254]\n",
      " [362  38 100 262 364 214 280 400   5 170]\n",
      " [358  23 244  16 143 255 172 258 493 233]]\n"
     ]
    }
   ],
   "source": [
    "# Indexing 1D array\n",
    "print(array_C[29])\n",
    "print(array_C[-1])\n",
    "\n",
    "print(array_C[29] == array_C[-1])\n",
    "\n",
    "# Indexing 2D arrays\n",
    "# Row 4, column 4\n",
    "print(random_array[3, 3])\n",
    "\n",
    "# Can we find the position from the value?\n",
    "print(np.where(array_C == 29))\n",
    "\n",
    "# How about 3-Dimensional arrays?\n",
    "#[layer, row, column]\n",
    "print(ThreeD_RandArray[1, 4, 0])\n",
    "\n",
    "# Finding value from 3D-array position\n",
    "print(np.where(ThreeD_RandArray == 459))\n",
    "\n",
    "# I just want the 1st row of all 3 layers\n",
    "print(ThreeD_RandArray[:, 0, ])"
   ]
  },
  {
   "attachments": {},
   "cell_type": "markdown",
   "metadata": {},
   "source": [
    "### DataFrames\n",
    "DataFrames == Tables == spreadsheet == excels <br>\n",
    "DataFrames is a grid with a value of data in each cell, this table contains rows and column indexed <br>\n",
    "We will be using the package pandas to create and access dataframes!"
   ]
  },
  {
   "cell_type": "code",
   "execution_count": 33,
   "metadata": {},
   "outputs": [
    {
     "data": {
      "text/html": [
       "<div>\n",
       "<style scoped>\n",
       "    .dataframe tbody tr th:only-of-type {\n",
       "        vertical-align: middle;\n",
       "    }\n",
       "\n",
       "    .dataframe tbody tr th {\n",
       "        vertical-align: top;\n",
       "    }\n",
       "\n",
       "    .dataframe thead th {\n",
       "        text-align: right;\n",
       "    }\n",
       "</style>\n",
       "<table border=\"1\" class=\"dataframe\">\n",
       "  <thead>\n",
       "    <tr style=\"text-align: right;\">\n",
       "      <th></th>\n",
       "      <th>0</th>\n",
       "      <th>1</th>\n",
       "      <th>2</th>\n",
       "    </tr>\n",
       "  </thead>\n",
       "  <tbody>\n",
       "    <tr>\n",
       "      <th>0</th>\n",
       "      <td>0.0</td>\n",
       "      <td>0.0</td>\n",
       "      <td>0.0</td>\n",
       "    </tr>\n",
       "    <tr>\n",
       "      <th>1</th>\n",
       "      <td>0.0</td>\n",
       "      <td>0.0</td>\n",
       "      <td>0.0</td>\n",
       "    </tr>\n",
       "    <tr>\n",
       "      <th>2</th>\n",
       "      <td>0.0</td>\n",
       "      <td>0.0</td>\n",
       "      <td>0.0</td>\n",
       "    </tr>\n",
       "  </tbody>\n",
       "</table>\n",
       "</div>"
      ],
      "text/plain": [
       "     0    1    2\n",
       "0  0.0  0.0  0.0\n",
       "1  0.0  0.0  0.0\n",
       "2  0.0  0.0  0.0"
      ]
     },
     "execution_count": 33,
     "metadata": {},
     "output_type": "execute_result"
    }
   ],
   "source": [
    "# Pandas DataFrame\n",
    "# Let's built upon what we just learnt!\n",
    "# Can we put List_A and List_B into a table?\n",
    "Table = pd.DataFrame(twoD_array)\n",
    "\n",
    "Table"
   ]
  },
  {
   "cell_type": "code",
   "execution_count": 34,
   "metadata": {},
   "outputs": [
    {
     "name": "stdout",
     "output_type": "stream",
     "text": [
      "   col1  col2  col3   col4\n",
      "0    -4     4   0.0   True\n",
      "1     2     5   0.0  False\n",
      "2     3     6   0.0  False\n",
      "<class 'pandas.core.frame.DataFrame'>\n",
      "RangeIndex: 3 entries, 0 to 2\n",
      "Data columns (total 4 columns):\n",
      " #   Column  Non-Null Count  Dtype  \n",
      "---  ------  --------------  -----  \n",
      " 0   col1    3 non-null      int64  \n",
      " 1   col2    3 non-null      uint64 \n",
      " 2   col3    3 non-null      float64\n",
      " 3   col4    3 non-null      bool   \n",
      "dtypes: bool(1), float64(1), int64(1), uint64(1)\n",
      "memory usage: 207.0 bytes\n",
      "None\n"
     ]
    }
   ],
   "source": [
    "# We can use multiple type of creating numpy arrays into making a dataframe!\n",
    "\n",
    "df = pd.DataFrame({\"col1\": np.array([-4, 2, 3], dtype = np.int64),\n",
    "                   \"col2\": np.arange(4, 7, 1, dtype = np.uint64),\n",
    "                   \"col3\": np.zeros(3, dtype = np.float64),\n",
    "                   \"col4\": np.array([True, False, False], dtype = bool)})\n",
    " \n",
    "#import pyarrow as pa\n",
    "## Pandas 2.0 and Arrow\n",
    "#\n",
    "#df = pd.DataFrame({\"col1\": pa.array([-193479, 5987349, 1291], type = \"int64\"),\n",
    "#                   \"col2\": pa.array(np.arange(4, 7, 1), type = \"uint64\"),\n",
    "#                   \"col3\": pa.array(np.zeros(3), type = \"float64\"),\n",
    "#                   \"col4\": pa.array([True, False, False], type = \"bool\")})\n",
    "\n",
    "print(df)\n",
    "\n",
    "print(df.info())"
   ]
  },
  {
   "attachments": {},
   "cell_type": "markdown",
   "metadata": {},
   "source": [
    "### Let's look at E&S Data"
   ]
  },
  {
   "cell_type": "code",
   "execution_count": null,
   "metadata": {},
   "outputs": [],
   "source": [
    "# Pandas 2.0\n",
    "ESData = pd.read_csv(f\"{data_raw}/ESData_sample.csv\", engine = \"pyarrow\", dtype_backend = \"pyarrow\", sep = \";\")\n",
    "#ESData = pd.read_csv(f\"{data_raw}/ESData_sample.csv\", sep = \";\")\n",
    "\n",
    "ESData.sample(n = 8)"
   ]
  },
  {
   "cell_type": "code",
   "execution_count": 1,
   "metadata": {},
   "outputs": [
    {
     "name": "stdout",
     "output_type": "stream",
     "text": [
      "The Zen of Python, by Tim Peters\n",
      "\n",
      "Beautiful is better than ugly.\n",
      "Explicit is better than implicit.\n",
      "Simple is better than complex.\n",
      "Complex is better than complicated.\n",
      "Flat is better than nested.\n",
      "Sparse is better than dense.\n",
      "Readability counts.\n",
      "Special cases aren't special enough to break the rules.\n",
      "Although practicality beats purity.\n",
      "Errors should never pass silently.\n",
      "Unless explicitly silenced.\n",
      "In the face of ambiguity, refuse the temptation to guess.\n",
      "There should be one-- and preferably only one --obvious way to do it.\n",
      "Although that way may not be obvious at first unless you're Dutch.\n",
      "Now is better than never.\n",
      "Although never is often better than *right* now.\n",
      "If the implementation is hard to explain, it's a bad idea.\n",
      "If the implementation is easy to explain, it may be a good idea.\n",
      "Namespaces are one honking great idea -- let's do more of those!\n"
     ]
    }
   ],
   "source": [
    "import this"
   ]
  }
 ],
 "metadata": {
  "kernelspec": {
   "display_name": "Python 3",
   "language": "python",
   "name": "python3"
  },
  "language_info": {
   "codemirror_mode": {
    "name": "ipython",
    "version": 3
   },
   "file_extension": ".py",
   "mimetype": "text/x-python",
   "name": "python",
   "nbconvert_exporter": "python",
   "pygments_lexer": "ipython3",
   "version": "3.11.2"
  },
  "orig_nbformat": 4
 },
 "nbformat": 4,
 "nbformat_minor": 2
}
