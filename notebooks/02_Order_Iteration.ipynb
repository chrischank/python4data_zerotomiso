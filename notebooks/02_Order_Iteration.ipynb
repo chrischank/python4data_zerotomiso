{
 "cells": [
  {
   "cell_type": "code",
   "execution_count": 1,
   "metadata": {},
   "outputs": [],
   "source": [
    "#####################################\n",
    "#02 Data order, list, df and wrangle#\n",
    "#Maintainer: Christopher Chan       #\n",
    "#Date: 2023-05-04                   #\n",
    "#Version: 0.1.2                     #\n",
    "#####################################\n",
    "\n",
    "# Import all necessary packages\n",
    "import os, sys, re\n",
    "import random\n",
    "import pathlib\n",
    "import numpy as np\n",
    "import pandas as pd\n",
    "#import pyarrow as pa\n",
    "\n",
    "# Load all the paths we might use later\n",
    "data_raw = pathlib.Path(\"../data/raw\")\n",
    "data_external = pathlib.Path(\"../data/external\")"
   ]
  },
  {
   "attachments": {},
   "cell_type": "markdown",
   "metadata": {},
   "source": [
    "## Welcome to 02_Order_Iteration!\n",
    "Now that we have learnt the basics of python data types and syntax, we can actually work with some data!\n",
    "Python data are organised in several formats:\n",
    "- Lists, Arrays <br>\n",
    "<t> Lists and arrays can hold multiple data within it, lists of lists, and lists of objects can also be made <br>\n",
    "<t> Lists and arrays are iterable objects, (i.e. you can print it one by one)\n",
    "\n",
    "- Dictionaries\n",
    "- Matrixes\n",
    "- DataFrames"
   ]
  },
  {
   "attachments": {},
   "cell_type": "markdown",
   "metadata": {},
   "source": [
    "### Lists & Indexing Lists\n",
    "Lists are lists, you can put data in lists, whether that be string, float, or integers. You can put a list in list, a function in list. You name it!\n",
    "A list within a list is called a \"NESTED LIST\"!\n",
    "\n",
    "Nested List:\n",
    "- List_AB:\n",
    "    - List A: 1, \"બે\", \"三\"\n",
    "    - List_B: \"Cuatro\", 5, \"Sechs\""
   ]
  },
  {
   "cell_type": "code",
   "execution_count": 2,
   "metadata": {},
   "outputs": [
    {
     "name": "stdout",
     "output_type": "stream",
     "text": [
      "[1, 'બે', '三'] ['Cuatro', 5, 'Sechs']\n",
      "<class 'list'> <class 'list'>\n",
      "[[1, 'બે', '三'], ['Cuatro', 5, 'Sechs']]\n",
      "<class 'list'>\n",
      "The first element of List_B is: Cuatro\n",
      "The last element of List_B is: Sechs\n"
     ]
    },
    {
     "ename": "IndexError",
     "evalue": "list index out of range",
     "output_type": "error",
     "traceback": [
      "\u001b[1;31m---------------------------------------------------------------------------\u001b[0m",
      "\u001b[1;31mIndexError\u001b[0m                                Traceback (most recent call last)",
      "Cell \u001b[1;32mIn[2], line 20\u001b[0m\n\u001b[0;32m     17\u001b[0m \u001b[39mprint\u001b[39m(\u001b[39mf\u001b[39m\u001b[39m\"\u001b[39m\u001b[39mThe last element of List_B is: \u001b[39m\u001b[39m{\u001b[39;00mList_B[\u001b[39m-\u001b[39m\u001b[39m1\u001b[39m]\u001b[39m}\u001b[39;00m\u001b[39m\"\u001b[39m)\n\u001b[0;32m     19\u001b[0m \u001b[39m# Python counts from 0, List_A has 4 items in it\u001b[39;00m\n\u001b[1;32m---> 20\u001b[0m List_A[\u001b[39m3\u001b[39;49m]\n",
      "\u001b[1;31mIndexError\u001b[0m: list index out of range"
     ]
    }
   ],
   "source": [
    "# Let's make some list of numbers\n",
    "List_A = [1, \"બે\", \"三\"]\n",
    "List_B = list((\"Cuatro\", 5, \"Sechs\"))\n",
    "\n",
    "print(List_A, List_B)\n",
    "print(type(List_A), type(List_B))\n",
    "\n",
    "# We can put 2 list into 1 list!\n",
    "List_AB = [List_A, List_B]\n",
    "\n",
    "print(List_AB)\n",
    "print(type(List_AB))\n",
    "\n",
    "# How do we access list?\n",
    "List_B[0]\n",
    "print(f\"The first element of List_B is: {List_B[0]}\")\n",
    "print(f\"The last element of List_B is: {List_B[-1]}\")\n",
    "\n",
    "# Python counts from 0, List_A has 4 items in it\n",
    "List_A[3]"
   ]
  },
  {
   "cell_type": "code",
   "execution_count": null,
   "metadata": {},
   "outputs": [
    {
     "name": "stdout",
     "output_type": "stream",
     "text": [
      "[1, 'બે', '三', 'Cuatro', 5, 'Sechs']\n",
      "The lenght of our new list is 6\n",
      "5 Sechs\n",
      "[5, 'Sechs']\n"
     ]
    }
   ],
   "source": [
    "# Can we access a range of elements?\n",
    "# Lets combine List_A and List_B into List_C\n",
    "List_C = List_A + List_B\n",
    "print(List_C)\n",
    "\n",
    "print(f\"The lenght of our new list is {len(List_C)}\")\n",
    "\n",
    "# But I just want 5 and Sechs?\n",
    "# [1:4] Starts at 4, stops at 6, 6 is not included\n",
    "print(List_C[4], List_C[5])\n",
    "print(List_C[4:6])"
   ]
  },
  {
   "attachments": {},
   "cell_type": "markdown",
   "metadata": {},
   "source": [
    "### Iteration and for loops\n",
    "The point of putting data into a list is not only to able to access it easily and organise it\n",
    "We can also ITERATE through it!\n",
    "We do a lot of iteration in programming because this is what makes programming data > Excel"
   ]
  },
  {
   "cell_type": "code",
   "execution_count": null,
   "metadata": {},
   "outputs": [
    {
     "name": "stdout",
     "output_type": "stream",
     "text": [
      "1\n",
      "બે\n",
      "三\n",
      "0 1\n",
      "1 બે\n",
      "2 三\n"
     ]
    }
   ],
   "source": [
    "# for loop\n",
    "for i in List_A:\n",
    "    print(i)\n",
    "\n",
    "# Do you want an index maybe?\n",
    "# Remember python counts from 0\n",
    "for idx, i in enumerate(List_A):\n",
    "    print(idx, i)"
   ]
  },
  {
   "cell_type": "code",
   "execution_count": null,
   "metadata": {},
   "outputs": [
    {
     "name": "stdout",
     "output_type": "stream",
     "text": [
      "1 Cuatro\n",
      "બે 5\n",
      "三 Sechs\n"
     ]
    }
   ],
   "source": [
    "# Simultaneous iteration\n",
    "for A, B in zip(List_AB[0], List_AB[1]):\n",
    "    print(A, B)"
   ]
  },
  {
   "cell_type": "code",
   "execution_count": null,
   "metadata": {},
   "outputs": [
    {
     "name": "stdout",
     "output_type": "stream",
     "text": [
      "બે\n",
      "三\n",
      "Cuatro\n",
      "Sechs\n"
     ]
    }
   ],
   "source": [
    "# We can change things in a loop!\n",
    "for i in List_C:\n",
    "    if type(i) == str:\n",
    "        print(i)"
   ]
  },
  {
   "cell_type": "code",
   "execution_count": null,
   "metadata": {},
   "outputs": [
    {
     "name": "stdout",
     "output_type": "stream",
     "text": [
      "The data 1 is an integer\n",
      "The data બે is a string\n",
      "The data 三 is a string\n",
      "The data Cuatro is a string\n",
      "The data 5 is an integer\n",
      "The data Sechs is a string\n",
      "\n",
      " Now with Enumeration\n",
      "The data 1 at position 1 is an integer\n",
      "The data બે at position 2 is a string\n",
      "The data 三 at position 3 is a string\n",
      "The data Cuatro at position 4 is a string\n",
      "The data 5 at position 5 is an integer\n",
      "The data Sechs at position 6 is a string\n"
     ]
    }
   ],
   "source": [
    "# If and elif (else-if) allows you to create condition within the for loop iteration\n",
    "for i in List_C:\n",
    "    if type(i) == str:\n",
    "        print(f\"The data {i} is a string\")\n",
    "    elif type(i) == int:\n",
    "        print(f\"The data {i} is an integer\")\n",
    "\n",
    "print(\"\\n Now with Enumeration\")\n",
    "\n",
    "for idx, j in enumerate(List_C):\n",
    "    if type(j) == str:\n",
    "        print(f\"The data {j} at position {idx + 1} is a string\")\n",
    "    elif type(j) == int:\n",
    "        print(f\"The data {j} at position {idx + 1} is an integer\")"
   ]
  },
  {
   "attachments": {},
   "cell_type": "markdown",
   "metadata": {},
   "source": [
    "### Numpy arrays & Indexing arrays\n",
    "Numpy arrays are essentially Lists, but Lists with sizes that cannot be changed <br>\n",
    "Arrays are more suitable for mathematical application because they ensure size <br>\n",
    "We can have arrays with from 1-dimension to as many as you want <br>\n",
    "That means we can use arrays to represent matrixes"
   ]
  },
  {
   "cell_type": "code",
   "execution_count": null,
   "metadata": {},
   "outputs": [
    {
     "name": "stdout",
     "output_type": "stream",
     "text": [
      "[1 2 3]\n",
      "<class 'numpy.ndarray'>\n",
      "1\n",
      "[4 5]\n",
      "[1. 1. 1. 1. 1.]\n",
      "[[0. 0. 0.]\n",
      " [0. 0. 0.]\n",
      " [0. 0. 0.]]\n"
     ]
    }
   ],
   "source": [
    "array_A = np.array([1, 2, 3])\n",
    "array_B = np.array([4, 5, 6])\n",
    "\n",
    "print(array_A)\n",
    "print(type(array_A))\n",
    "\n",
    "# We can access array elements just like we did with List!\n",
    "print(array_A[0])\n",
    "print(array_B[0:2])\n",
    "\n",
    "# We can even fill empty arrays with 1s and 0s and create arrays in our desired shape\n",
    "# I want an array with 1-dimension of five 1\n",
    "oneD_array = np.ones(5)\n",
    "print(oneD_array)\n",
    "\n",
    "# I want a 3 row and 3 column (3 by 3) matrix with 0s\n",
    "twoD_array = np.zeros((3, 3))\n",
    "print(twoD_array)"
   ]
  },
  {
   "cell_type": "code",
   "execution_count": null,
   "metadata": {},
   "outputs": [
    {
     "name": "stdout",
     "output_type": "stream",
     "text": [
      "[ 0  1  2  3  4  5  6  7  8  9 10 11 12 13 14 15 16 17 18 19 20 21 22 23\n",
      " 24 25 26 27 28 29]\n",
      "[  4  24  44  64  84 104 124 144 164 184 204 224 244 264 284 304 324 344\n",
      " 364 384]\n",
      "[[0.21018964 0.40101095 0.04974748 0.56437419 0.67176341]\n",
      " [0.55149857 0.17301585 0.33092364 0.1319018  0.99100017]\n",
      " [0.3629739  0.75756654 0.06655054 0.00695017 0.43941547]\n",
      " [0.0054486  0.20400024 0.74003591 0.24887422 0.89836662]\n",
      " [0.06996172 0.80751417 0.24616558 0.34974369 0.26142367]]\n"
     ]
    }
   ],
   "source": [
    "# More creative ways of making arrays\n",
    "\n",
    "# Array range from 0 to 29\n",
    "array_C = np.arange(30)\n",
    "print(array_C)\n",
    "\n",
    "# Array range from 4 to 400 with an interval of 20\n",
    "# We can see the output is just shy of 400\n",
    "array_D = np.arange(4, 400, 20)\n",
    "print(array_D)\n",
    "\n",
    "# Random 2-dimension array of 5 by 5\n",
    "random_array = np.random.rand(5, 5)\n",
    "print(random_array)"
   ]
  },
  {
   "cell_type": "code",
   "execution_count": null,
   "metadata": {},
   "outputs": [
    {
     "name": "stdout",
     "output_type": "stream",
     "text": [
      "[[[ 60 475  60 281 455 405 104  77 331 153]\n",
      "  [489  31 284 183 293  39 198  26  68 164]\n",
      "  [494 417 226 405 375 465 228  90  37 140]\n",
      "  [ 46 372 464  69 406 315 138  21 438 188]\n",
      "  [281  36   6  33 276  16  36 119 367 184]\n",
      "  [269 418 252  36 415 412 135 418   0  30]\n",
      "  [160  70 192 186 184 428 279 231 259 381]\n",
      "  [402 153 449 240 342 436 435  58 462 360]\n",
      "  [456 498  81  43 147 415 121 190 298  73]\n",
      "  [215 208 432 433 104 307 449 201  59 145]]\n",
      "\n",
      " [[ 94  29 335  93  13 197  74 493  80 124]\n",
      "  [237 178 279 343 123 134 448 108  22 116]\n",
      "  [197 273 467 433 177  17 444  67 366 382]\n",
      "  [  4   7 325 432 146 145 258 314 471 416]\n",
      "  [307 336 134 120 139 210 393  56 133 474]\n",
      "  [196 316 200 358 376 167 265 114 290 143]\n",
      "  [145 156 473 432 236 480 367 167 183  98]\n",
      "  [435 170 113  69 306  74 480 197 144 476]\n",
      "  [358 264 301 393 332 143 383 423 200 393]\n",
      "  [295 231 423 154  83  49 302 325  93 485]]\n",
      "\n",
      " [[ 66 222 110 354 116 485 120 415 290 145]\n",
      "  [496 394 472 375 343 112  86 422 116 131]\n",
      "  [133  50  32  48 250 289 229 491 486 173]\n",
      "  [ 15 124 310 184 183 381 474 376 237 350]\n",
      "  [327 152 467 297  32 322 436 204 416  35]\n",
      "  [330 487 290 169 277 424 135 442 248 387]\n",
      "  [134 424 303 429 281 219 455 421 115 405]\n",
      "  [ 17  13 480 141 197 452 160 106 489 232]\n",
      "  [278 324 170 227 438 287 437 453 231 335]\n",
      "  [ 49 264 277 386 277 261 154 390 425 420]]]\n"
     ]
    }
   ],
   "source": [
    "# Random 3-dimesnion array of 10 by 10 by 3 (layer, row, column)\n",
    "# With maximum integer limit of 500\n",
    "ThreeD_RandArray = np.random.randint(500, size = (3, 10, 10))\n",
    "print(ThreeD_RandArray)"
   ]
  },
  {
   "cell_type": "code",
   "execution_count": null,
   "metadata": {},
   "outputs": [
    {
     "name": "stdout",
     "output_type": "stream",
     "text": [
      "29\n",
      "29\n",
      "True\n",
      "0.24887421511029717\n",
      "(array([29], dtype=int64),)\n",
      "307\n",
      "(array([], dtype=int64), array([], dtype=int64), array([], dtype=int64))\n",
      "[[ 60 475  60 281 455 405 104  77 331 153]\n",
      " [ 94  29 335  93  13 197  74 493  80 124]\n",
      " [ 66 222 110 354 116 485 120 415 290 145]]\n"
     ]
    }
   ],
   "source": [
    "# Indexing 1D array\n",
    "print(array_C[29])\n",
    "print(array_C[-1])\n",
    "\n",
    "print(array_C[29] == array_C[-1])\n",
    "\n",
    "# Indexing 2D arrays\n",
    "# Row 4, column 4\n",
    "print(random_array[3, 3])\n",
    "\n",
    "# Can we find the position from the value?\n",
    "print(np.where(array_C == 29))\n",
    "\n",
    "# How about 3-Dimensional arrays?\n",
    "#[layer, row, column]\n",
    "print(ThreeD_RandArray[1, 4, 0])\n",
    "\n",
    "# Finding value from 3D-array position\n",
    "print(np.where(ThreeD_RandArray == 459))\n",
    "\n",
    "# I just want the 1st row of all 3 layers\n",
    "print(ThreeD_RandArray[:, 0, ])"
   ]
  },
  {
   "attachments": {},
   "cell_type": "markdown",
   "metadata": {},
   "source": [
    "### DataFrames\n",
    "DataFrames == Tables == spreadsheet == excels <br>\n",
    "DataFrames is a grid with a value of data in each cell, this table contains rows and column indexed <br>\n",
    "We will be using the package pandas to create and access dataframes!"
   ]
  },
  {
   "cell_type": "code",
   "execution_count": null,
   "metadata": {},
   "outputs": [
    {
     "data": {
      "text/html": [
       "<div>\n",
       "<style scoped>\n",
       "    .dataframe tbody tr th:only-of-type {\n",
       "        vertical-align: middle;\n",
       "    }\n",
       "\n",
       "    .dataframe tbody tr th {\n",
       "        vertical-align: top;\n",
       "    }\n",
       "\n",
       "    .dataframe thead th {\n",
       "        text-align: right;\n",
       "    }\n",
       "</style>\n",
       "<table border=\"1\" class=\"dataframe\">\n",
       "  <thead>\n",
       "    <tr style=\"text-align: right;\">\n",
       "      <th></th>\n",
       "      <th>0</th>\n",
       "      <th>1</th>\n",
       "      <th>2</th>\n",
       "    </tr>\n",
       "  </thead>\n",
       "  <tbody>\n",
       "    <tr>\n",
       "      <th>0</th>\n",
       "      <td>0.0</td>\n",
       "      <td>0.0</td>\n",
       "      <td>0.0</td>\n",
       "    </tr>\n",
       "    <tr>\n",
       "      <th>1</th>\n",
       "      <td>0.0</td>\n",
       "      <td>0.0</td>\n",
       "      <td>0.0</td>\n",
       "    </tr>\n",
       "    <tr>\n",
       "      <th>2</th>\n",
       "      <td>0.0</td>\n",
       "      <td>0.0</td>\n",
       "      <td>0.0</td>\n",
       "    </tr>\n",
       "  </tbody>\n",
       "</table>\n",
       "</div>"
      ],
      "text/plain": [
       "     0    1    2\n",
       "0  0.0  0.0  0.0\n",
       "1  0.0  0.0  0.0\n",
       "2  0.0  0.0  0.0"
      ]
     },
     "execution_count": 12,
     "metadata": {},
     "output_type": "execute_result"
    }
   ],
   "source": [
    "# Pandas DataFrame\n",
    "# Let's built upon what we just learnt!\n",
    "# Can we put List_A and List_B into a table?\n",
    "Table = pd.DataFrame(twoD_array)\n",
    "\n",
    "Table"
   ]
  },
  {
   "cell_type": "code",
   "execution_count": null,
   "metadata": {},
   "outputs": [
    {
     "name": "stdout",
     "output_type": "stream",
     "text": [
      "   col1  col2  col3   col4\n",
      "0    -4     4   0.0   True\n",
      "1     2     5   0.0  False\n",
      "2     3     6   0.0  False\n",
      "<class 'pandas.core.frame.DataFrame'>\n",
      "RangeIndex: 3 entries, 0 to 2\n",
      "Data columns (total 4 columns):\n",
      " #   Column  Non-Null Count  Dtype  \n",
      "---  ------  --------------  -----  \n",
      " 0   col1    3 non-null      int64  \n",
      " 1   col2    3 non-null      uint64 \n",
      " 2   col3    3 non-null      float64\n",
      " 3   col4    3 non-null      bool   \n",
      "dtypes: bool(1), float64(1), int64(1), uint64(1)\n",
      "memory usage: 207.0 bytes\n",
      "None\n"
     ]
    }
   ],
   "source": [
    "# We can use multiple type of creating numpy arrays into making a dataframe!\n",
    "\n",
    "df = pd.DataFrame({\"col1\": np.array([-4, 2, 3], dtype = np.int64),\n",
    "                   \"col2\": np.arange(4, 7, 1, dtype = np.uint64),\n",
    "                   \"col3\": np.zeros(3, dtype = np.float64),\n",
    "                   \"col4\": np.array([True, False, False], dtype = bool)})\n",
    " \n",
    "#import pyarrow as pa\n",
    "## Pandas 2.0 and Arrow\n",
    "#\n",
    "#df = pd.DataFrame({\"col1\": pa.array([-193479, 5987349, 1291], type = \"int64\"),\n",
    "#                   \"col2\": pa.array(np.arange(4, 7, 1), type = \"uint64\"),\n",
    "#                   \"col3\": pa.array(np.zeros(3), type = \"float64\"),\n",
    "#                   \"col4\": pa.array([True, False, False], type = \"bool\")})\n",
    "\n",
    "print(df)\n",
    "\n",
    "print(df.info())"
   ]
  },
  {
   "attachments": {},
   "cell_type": "markdown",
   "metadata": {},
   "source": [
    "### Let's look at E&S Data"
   ]
  },
  {
   "cell_type": "code",
   "execution_count": 3,
   "metadata": {},
   "outputs": [
    {
     "data": {
      "text/html": [
       "<div>\n",
       "<style scoped>\n",
       "    .dataframe tbody tr th:only-of-type {\n",
       "        vertical-align: middle;\n",
       "    }\n",
       "\n",
       "    .dataframe tbody tr th {\n",
       "        vertical-align: top;\n",
       "    }\n",
       "\n",
       "    .dataframe thead th {\n",
       "        text-align: right;\n",
       "    }\n",
       "</style>\n",
       "<table border=\"1\" class=\"dataframe\">\n",
       "  <thead>\n",
       "    <tr style=\"text-align: right;\">\n",
       "      <th></th>\n",
       "      <th>FactorId</th>\n",
       "      <th>Name</th>\n",
       "      <th>Question</th>\n",
       "      <th>Date</th>\n",
       "      <th>Answer</th>\n",
       "      <th>PublicationDate</th>\n",
       "      <th>Restated</th>\n",
       "      <th>AgentId</th>\n",
       "      <th>AgentName</th>\n",
       "      <th>AgentGics</th>\n",
       "      <th>CountryOfOperation</th>\n",
       "      <th>SourceName</th>\n",
       "      <th>SourceType</th>\n",
       "      <th>Page</th>\n",
       "      <th>Comment</th>\n",
       "      <th>Excerpt</th>\n",
       "      <th>URL</th>\n",
       "    </tr>\n",
       "  </thead>\n",
       "  <tbody>\n",
       "    <tr>\n",
       "      <th>20752</th>\n",
       "      <td>4859</td>\n",
       "      <td>CoPro71.1</td>\n",
       "      <td>Does the company disclose the existence of an ...</td>\n",
       "      <td>2021-12-31 00:00:00</td>\n",
       "      <td>No</td>\n",
       "      <td>2023-02-21 00:00:00</td>\n",
       "      <td>False</td>\n",
       "      <td>36</td>\n",
       "      <td>Taiwan Semiconductor Manufacturing Co., Ltd.</td>\n",
       "      <td>45301020</td>\n",
       "      <td>CAN,CHN,CYM,DEU,JPN,KOR,NLD,TWN,USA,VGB</td>\n",
       "      <td>&lt;NA&gt;</td>\n",
       "      <td>&lt;NA&gt;</td>\n",
       "      <td>&lt;NA&gt;</td>\n",
       "      <td>&lt;NA&gt;</td>\n",
       "      <td>&lt;NA&gt;</td>\n",
       "      <td>&lt;NA&gt;</td>\n",
       "    </tr>\n",
       "    <tr>\n",
       "      <th>31496</th>\n",
       "      <td>4621</td>\n",
       "      <td>CliInv27</td>\n",
       "      <td>Does the company disclose its scope 3 emission...</td>\n",
       "      <td>2021-12-31 00:00:00</td>\n",
       "      <td>No</td>\n",
       "      <td>2023-03-01 00:00:00</td>\n",
       "      <td>False</td>\n",
       "      <td>1269</td>\n",
       "      <td>The Sherwin-Williams Company</td>\n",
       "      <td>15101050</td>\n",
       "      <td>USA,SWE,GBR,ESP,LTU,CHL,BRA,POL,ITA,MEX,IND,AR...</td>\n",
       "      <td>&lt;NA&gt;</td>\n",
       "      <td>&lt;NA&gt;</td>\n",
       "      <td>&lt;NA&gt;</td>\n",
       "      <td>&lt;NA&gt;</td>\n",
       "      <td>&lt;NA&gt;</td>\n",
       "      <td>&lt;NA&gt;</td>\n",
       "    </tr>\n",
       "    <tr>\n",
       "      <th>33492</th>\n",
       "      <td>4705</td>\n",
       "      <td>OHS1.0</td>\n",
       "      <td>Does the company express a commitment to ensur...</td>\n",
       "      <td>2022-12-31 00:00:00</td>\n",
       "      <td>Yes</td>\n",
       "      <td>2023-04-13 00:00:00</td>\n",
       "      <td>False</td>\n",
       "      <td>1181</td>\n",
       "      <td>The New York Times Company</td>\n",
       "      <td>50201040</td>\n",
       "      <td>ARE,AUS,BRA,CAN,CHE,CHN,DEU,FRA,GBR,HKG,IND,IT...</td>\n",
       "      <td>2022 Annual Report</td>\n",
       "      <td>Annual Report</td>\n",
       "      <td>14</td>\n",
       "      <td>&lt;NA&gt;</td>\n",
       "      <td>Supporting employees’ health, safety and well-...</td>\n",
       "      <td>https://nytco-assets.nytimes.com/2023/03/The-N...</td>\n",
       "    </tr>\n",
       "    <tr>\n",
       "      <th>39062</th>\n",
       "      <td>4676</td>\n",
       "      <td>SupSt1.10</td>\n",
       "      <td>Does the company disclose a supplier policy th...</td>\n",
       "      <td>2020-12-31 00:00:00</td>\n",
       "      <td>No</td>\n",
       "      <td>2023-03-30 00:00:00</td>\n",
       "      <td>False</td>\n",
       "      <td>49</td>\n",
       "      <td>PT United Tractors Tbk</td>\n",
       "      <td>10102050</td>\n",
       "      <td>IDN,SGP,VGB</td>\n",
       "      <td>&lt;NA&gt;</td>\n",
       "      <td>&lt;NA&gt;</td>\n",
       "      <td>&lt;NA&gt;</td>\n",
       "      <td>&lt;NA&gt;</td>\n",
       "      <td>&lt;NA&gt;</td>\n",
       "      <td>&lt;NA&gt;</td>\n",
       "    </tr>\n",
       "    <tr>\n",
       "      <th>15555</th>\n",
       "      <td>5046</td>\n",
       "      <td>HFat2.1-x</td>\n",
       "      <td>Employee fatality rate</td>\n",
       "      <td>2022-03-31 00:00:00</td>\n",
       "      <td>0 Fatalities per 200,000 hours worked</td>\n",
       "      <td>2022-12-08 00:00:00</td>\n",
       "      <td>False</td>\n",
       "      <td>82</td>\n",
       "      <td>Infosys Limited</td>\n",
       "      <td>45102010</td>\n",
       "      <td>ARE,ARG,AUS,AUT,BEL,BGR,BRA,CAN,CHE,CHL,CHN,CZ...</td>\n",
       "      <td>Infosys ESG databook 2021/22</td>\n",
       "      <td>Company website</td>\n",
       "      <td>23</td>\n",
       "      <td>&lt;NA&gt;</td>\n",
       "      <td>&lt;NA&gt;</td>\n",
       "      <td>https://www.infosys.com/sustainability/documen...</td>\n",
       "    </tr>\n",
       "    <tr>\n",
       "      <th>35875</th>\n",
       "      <td>4842</td>\n",
       "      <td>CoPro6</td>\n",
       "      <td>Does the company disclose an anti-corruption d...</td>\n",
       "      <td>2023-03-13 00:00:00</td>\n",
       "      <td>Yes</td>\n",
       "      <td>2023-03-14 00:00:00</td>\n",
       "      <td>False</td>\n",
       "      <td>1132</td>\n",
       "      <td>Qurate Retail, Inc.</td>\n",
       "      <td>25503030</td>\n",
       "      <td>USA,BEL,BRA,CHL,GBR,IND,DEU,NLD,COL,LUX,IRL,CA...</td>\n",
       "      <td>ANTI-BRIBERY AND ANTI-CORRUPTION POLICY</td>\n",
       "      <td>Policy</td>\n",
       "      <td>2</td>\n",
       "      <td>&lt;NA&gt;</td>\n",
       "      <td>We work with Business Partners outside of QRG,...</td>\n",
       "      <td>https://www.qurateretailgroup.com/wp-content/u...</td>\n",
       "    </tr>\n",
       "    <tr>\n",
       "      <th>47303</th>\n",
       "      <td>4872</td>\n",
       "      <td>PMH4.1</td>\n",
       "      <td>Does the company disclose the existence of str...</td>\n",
       "      <td>2020-12-31 00:00:00</td>\n",
       "      <td>No</td>\n",
       "      <td>2023-03-17 00:00:00</td>\n",
       "      <td>False</td>\n",
       "      <td>1022</td>\n",
       "      <td>Dominion Energy, Inc.</td>\n",
       "      <td>55103010</td>\n",
       "      <td>USA,CYM,PER,JEY,CAN,NLD,CHE,SGP,PRY,AUS</td>\n",
       "      <td>&lt;NA&gt;</td>\n",
       "      <td>&lt;NA&gt;</td>\n",
       "      <td>&lt;NA&gt;</td>\n",
       "      <td>&lt;NA&gt;</td>\n",
       "      <td>&lt;NA&gt;</td>\n",
       "      <td>&lt;NA&gt;</td>\n",
       "    </tr>\n",
       "    <tr>\n",
       "      <th>5685</th>\n",
       "      <td>5019</td>\n",
       "      <td>WatInv1.1-x</td>\n",
       "      <td>Total amount of freshwater withdrawn</td>\n",
       "      <td>2021-03-31 00:00:00</td>\n",
       "      <td>Not Disclosed</td>\n",
       "      <td>2023-02-14 00:00:00</td>\n",
       "      <td>False</td>\n",
       "      <td>94</td>\n",
       "      <td>DLF Limited</td>\n",
       "      <td>60201010</td>\n",
       "      <td>IND,VGB,ITA,BRA,CYP</td>\n",
       "      <td>&lt;NA&gt;</td>\n",
       "      <td>&lt;NA&gt;</td>\n",
       "      <td>&lt;NA&gt;</td>\n",
       "      <td>&lt;NA&gt;</td>\n",
       "      <td>&lt;NA&gt;</td>\n",
       "      <td>&lt;NA&gt;</td>\n",
       "    </tr>\n",
       "  </tbody>\n",
       "</table>\n",
       "</div>"
      ],
      "text/plain": [
       "       FactorId         Name   \n",
       "20752      4859    CoPro71.1  \\\n",
       "31496      4621     CliInv27   \n",
       "33492      4705       OHS1.0   \n",
       "39062      4676    SupSt1.10   \n",
       "15555      5046    HFat2.1-x   \n",
       "35875      4842       CoPro6   \n",
       "47303      4872       PMH4.1   \n",
       "5685       5019  WatInv1.1-x   \n",
       "\n",
       "                                                Question                 Date   \n",
       "20752  Does the company disclose the existence of an ...  2021-12-31 00:00:00  \\\n",
       "31496  Does the company disclose its scope 3 emission...  2021-12-31 00:00:00   \n",
       "33492  Does the company express a commitment to ensur...  2022-12-31 00:00:00   \n",
       "39062  Does the company disclose a supplier policy th...  2020-12-31 00:00:00   \n",
       "15555                             Employee fatality rate  2022-03-31 00:00:00   \n",
       "35875  Does the company disclose an anti-corruption d...  2023-03-13 00:00:00   \n",
       "47303  Does the company disclose the existence of str...  2020-12-31 00:00:00   \n",
       "5685                Total amount of freshwater withdrawn  2021-03-31 00:00:00   \n",
       "\n",
       "                                      Answer      PublicationDate Restated   \n",
       "20752                                     No  2023-02-21 00:00:00    False  \\\n",
       "31496                                     No  2023-03-01 00:00:00    False   \n",
       "33492                                    Yes  2023-04-13 00:00:00    False   \n",
       "39062                                     No  2023-03-30 00:00:00    False   \n",
       "15555  0 Fatalities per 200,000 hours worked  2022-12-08 00:00:00    False   \n",
       "35875                                    Yes  2023-03-14 00:00:00    False   \n",
       "47303                                     No  2023-03-17 00:00:00    False   \n",
       "5685                           Not Disclosed  2023-02-14 00:00:00    False   \n",
       "\n",
       "       AgentId                                     AgentName  AgentGics   \n",
       "20752       36  Taiwan Semiconductor Manufacturing Co., Ltd.   45301020  \\\n",
       "31496     1269                  The Sherwin-Williams Company   15101050   \n",
       "33492     1181                    The New York Times Company   50201040   \n",
       "39062       49                        PT United Tractors Tbk   10102050   \n",
       "15555       82                               Infosys Limited   45102010   \n",
       "35875     1132                           Qurate Retail, Inc.   25503030   \n",
       "47303     1022                         Dominion Energy, Inc.   55103010   \n",
       "5685        94                                   DLF Limited   60201010   \n",
       "\n",
       "                                      CountryOfOperation   \n",
       "20752            CAN,CHN,CYM,DEU,JPN,KOR,NLD,TWN,USA,VGB  \\\n",
       "31496  USA,SWE,GBR,ESP,LTU,CHL,BRA,POL,ITA,MEX,IND,AR...   \n",
       "33492  ARE,AUS,BRA,CAN,CHE,CHN,DEU,FRA,GBR,HKG,IND,IT...   \n",
       "39062                                        IDN,SGP,VGB   \n",
       "15555  ARE,ARG,AUS,AUT,BEL,BGR,BRA,CAN,CHE,CHL,CHN,CZ...   \n",
       "35875  USA,BEL,BRA,CHL,GBR,IND,DEU,NLD,COL,LUX,IRL,CA...   \n",
       "47303            USA,CYM,PER,JEY,CAN,NLD,CHE,SGP,PRY,AUS   \n",
       "5685                                 IND,VGB,ITA,BRA,CYP   \n",
       "\n",
       "                                     SourceName       SourceType  Page   \n",
       "20752                                      <NA>             <NA>  <NA>  \\\n",
       "31496                                      <NA>             <NA>  <NA>   \n",
       "33492                        2022 Annual Report    Annual Report    14   \n",
       "39062                                      <NA>             <NA>  <NA>   \n",
       "15555              Infosys ESG databook 2021/22  Company website    23   \n",
       "35875  ANTI-BRIBERY AND ANTI-CORRUPTION POLICY            Policy     2   \n",
       "47303                                      <NA>             <NA>  <NA>   \n",
       "5685                                       <NA>             <NA>  <NA>   \n",
       "\n",
       "      Comment                                            Excerpt   \n",
       "20752    <NA>                                               <NA>  \\\n",
       "31496    <NA>                                               <NA>   \n",
       "33492    <NA>  Supporting employees’ health, safety and well-...   \n",
       "39062    <NA>                                               <NA>   \n",
       "15555    <NA>                                               <NA>   \n",
       "35875    <NA>  We work with Business Partners outside of QRG,...   \n",
       "47303    <NA>                                               <NA>   \n",
       "5685     <NA>                                               <NA>   \n",
       "\n",
       "                                                     URL  \n",
       "20752                                               <NA>  \n",
       "31496                                               <NA>  \n",
       "33492  https://nytco-assets.nytimes.com/2023/03/The-N...  \n",
       "39062                                               <NA>  \n",
       "15555  https://www.infosys.com/sustainability/documen...  \n",
       "35875  https://www.qurateretailgroup.com/wp-content/u...  \n",
       "47303                                               <NA>  \n",
       "5685                                                <NA>  "
      ]
     },
     "execution_count": 3,
     "metadata": {},
     "output_type": "execute_result"
    }
   ],
   "source": [
    "# Pandas 2.0\n",
    "ESData = pd.read_csv(f\"{data_raw}/ESData_sample.csv\", dtype_backend = \"pyarrow\", sep = \";\")\n",
    "\n",
    "# Pandas 1.0\n",
    "#ESData = pd.read_csv(f\"{data_raw}/ESData_sample.csv\", sep = \";\")\n",
    "\n",
    "ESData.sample(n = 8)"
   ]
  },
  {
   "cell_type": "code",
   "execution_count": null,
   "metadata": {},
   "outputs": [
    {
     "name": "stdout",
     "output_type": "stream",
     "text": [
      "The Zen of Python, by Tim Peters\n",
      "\n",
      "Beautiful is better than ugly.\n",
      "Explicit is better than implicit.\n",
      "Simple is better than complex.\n",
      "Complex is better than complicated.\n",
      "Flat is better than nested.\n",
      "Sparse is better than dense.\n",
      "Readability counts.\n",
      "Special cases aren't special enough to break the rules.\n",
      "Although practicality beats purity.\n",
      "Errors should never pass silently.\n",
      "Unless explicitly silenced.\n",
      "In the face of ambiguity, refuse the temptation to guess.\n",
      "There should be one-- and preferably only one --obvious way to do it.\n",
      "Although that way may not be obvious at first unless you're Dutch.\n",
      "Now is better than never.\n",
      "Although never is often better than *right* now.\n",
      "If the implementation is hard to explain, it's a bad idea.\n",
      "If the implementation is easy to explain, it may be a good idea.\n",
      "Namespaces are one honking great idea -- let's do more of those!\n"
     ]
    }
   ],
   "source": [
    "import this"
   ]
  }
 ],
 "metadata": {
  "kernelspec": {
   "display_name": "Python 3",
   "language": "python",
   "name": "python3"
  },
  "language_info": {
   "codemirror_mode": {
    "name": "ipython",
    "version": 3
   },
   "file_extension": ".py",
   "mimetype": "text/x-python",
   "name": "python",
   "nbconvert_exporter": "python",
   "pygments_lexer": "ipython3",
   "version": "3.11.2"
  },
  "orig_nbformat": 4
 },
 "nbformat": 4,
 "nbformat_minor": 2
}
